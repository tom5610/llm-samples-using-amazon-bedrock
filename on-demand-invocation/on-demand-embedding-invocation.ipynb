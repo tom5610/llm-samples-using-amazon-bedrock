{
 "cells": [
  {
   "cell_type": "code",
   "execution_count": null,
   "metadata": {},
   "outputs": [],
   "source": [
    "import asyncio\n",
    "from time import perf_counter as time\n",
    "from pyrate_limiter import Duration, Limiter, Rate\n",
    "\n",
    "limiter = Limiter(Rate(5, Duration.SECOND))\n",
    "n_requests = 27\n",
    "\n",
    "async def limited_function(start_time):\n",
    "    limiter.try_acquire('identity')\n",
    "    print(f\"t + {time() - start_time:.5f}\")\n",
    "\n",
    "async def test_ratelimit():\n",
    "    start_time = time()\n",
    "    tasks = [limited_function(start_time) for _ in range(n_requests)]\n",
    "    await asyncio.gather(*tasks)\n",
    "    print(f\"Ran {n_requests} requests in {time() - start_time:.5f} seconds\")\n",
    "\n",
    "\n",
    "asyncio.run(test_ratelimit())"
   ]
  },
  {
   "cell_type": "code",
   "execution_count": null,
   "metadata": {},
   "outputs": [],
   "source": []
  }
 ],
 "metadata": {
  "kernelspec": {
   "display_name": "aws-demo",
   "language": "python",
   "name": "python3"
  },
  "language_info": {
   "codemirror_mode": {
    "name": "ipython",
    "version": 3
   },
   "file_extension": ".py",
   "mimetype": "text/x-python",
   "name": "python",
   "nbconvert_exporter": "python",
   "pygments_lexer": "ipython3",
   "version": "3.12.8"
  }
 },
 "nbformat": 4,
 "nbformat_minor": 2
}
